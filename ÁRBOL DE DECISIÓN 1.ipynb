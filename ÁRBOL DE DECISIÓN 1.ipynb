{
 "cells": [
  {
   "cell_type": "markdown",
   "id": "33621da2",
   "metadata": {},
   "source": [
    "# Con este código determinaremos la probabilidad de que una persona use o no internet."
   ]
  },
  {
   "cell_type": "code",
   "execution_count": 10,
   "id": "4e7ebc30",
   "metadata": {},
   "outputs": [],
   "source": [
    "# Se carga la libreria pandas\n",
    "import pandas as pd"
   ]
  },
  {
   "cell_type": "code",
   "execution_count": 11,
   "id": "067ec2ad",
   "metadata": {},
   "outputs": [
    {
     "data": {
      "text/html": [
       "<div>\n",
       "<style scoped>\n",
       "    .dataframe tbody tr th:only-of-type {\n",
       "        vertical-align: middle;\n",
       "    }\n",
       "\n",
       "    .dataframe tbody tr th {\n",
       "        vertical-align: top;\n",
       "    }\n",
       "\n",
       "    .dataframe thead th {\n",
       "        text-align: right;\n",
       "    }\n",
       "</style>\n",
       "<table border=\"1\" class=\"dataframe\">\n",
       "  <thead>\n",
       "    <tr style=\"text-align: right;\">\n",
       "      <th></th>\n",
       "      <th>Unnamed: 0</th>\n",
       "      <th>uso_internet</th>\n",
       "      <th>sexo</th>\n",
       "      <th>edad</th>\n",
       "      <th>estudios</th>\n",
       "    </tr>\n",
       "  </thead>\n",
       "  <tbody>\n",
       "    <tr>\n",
       "      <th>0</th>\n",
       "      <td>1</td>\n",
       "      <td>0</td>\n",
       "      <td>Mujer</td>\n",
       "      <td>66</td>\n",
       "      <td>Primaria</td>\n",
       "    </tr>\n",
       "    <tr>\n",
       "      <th>1</th>\n",
       "      <td>2</td>\n",
       "      <td>1</td>\n",
       "      <td>Hombre</td>\n",
       "      <td>72</td>\n",
       "      <td>Primaria</td>\n",
       "    </tr>\n",
       "    <tr>\n",
       "      <th>2</th>\n",
       "      <td>3</td>\n",
       "      <td>1</td>\n",
       "      <td>Hombre</td>\n",
       "      <td>48</td>\n",
       "      <td>Medios universitarios</td>\n",
       "    </tr>\n",
       "    <tr>\n",
       "      <th>3</th>\n",
       "      <td>4</td>\n",
       "      <td>0</td>\n",
       "      <td>Hombre</td>\n",
       "      <td>59</td>\n",
       "      <td>Superiores</td>\n",
       "    </tr>\n",
       "    <tr>\n",
       "      <th>4</th>\n",
       "      <td>5</td>\n",
       "      <td>1</td>\n",
       "      <td>Mujer</td>\n",
       "      <td>44</td>\n",
       "      <td>Superiores</td>\n",
       "    </tr>\n",
       "  </tbody>\n",
       "</table>\n",
       "</div>"
      ],
      "text/plain": [
       "   Unnamed: 0  uso_internet    sexo  edad               estudios\n",
       "0           1             0   Mujer    66               Primaria\n",
       "1           2             1  Hombre    72               Primaria\n",
       "2           3             1  Hombre    48  Medios universitarios\n",
       "3           4             0  Hombre    59             Superiores\n",
       "4           5             1   Mujer    44             Superiores"
      ]
     },
     "execution_count": 11,
     "metadata": {},
     "output_type": "execute_result"
    }
   ],
   "source": [
    "# Se cargan los datos y se visualiza los primeros de ellos\n",
    "df = pd.read_csv('https://raw.githubusercontent.com/jsulopz/data/main/uso_internet_espana.csv')\n",
    "df.head()"
   ]
  },
  {
   "cell_type": "code",
   "execution_count": 12,
   "id": "70ff9655",
   "metadata": {},
   "outputs": [
    {
     "data": {
      "text/html": [
       "<div>\n",
       "<style scoped>\n",
       "    .dataframe tbody tr th:only-of-type {\n",
       "        vertical-align: middle;\n",
       "    }\n",
       "\n",
       "    .dataframe tbody tr th {\n",
       "        vertical-align: top;\n",
       "    }\n",
       "\n",
       "    .dataframe thead th {\n",
       "        text-align: right;\n",
       "    }\n",
       "</style>\n",
       "<table border=\"1\" class=\"dataframe\">\n",
       "  <thead>\n",
       "    <tr style=\"text-align: right;\">\n",
       "      <th></th>\n",
       "      <th>Unnamed: 0</th>\n",
       "      <th>uso_internet</th>\n",
       "      <th>sexo</th>\n",
       "      <th>edad</th>\n",
       "      <th>estudios</th>\n",
       "    </tr>\n",
       "  </thead>\n",
       "  <tbody>\n",
       "    <tr>\n",
       "      <th>1891</th>\n",
       "      <td>1908</td>\n",
       "      <td>1</td>\n",
       "      <td>Hombre</td>\n",
       "      <td>26</td>\n",
       "      <td>Primaria</td>\n",
       "    </tr>\n",
       "    <tr>\n",
       "      <th>467</th>\n",
       "      <td>470</td>\n",
       "      <td>1</td>\n",
       "      <td>Mujer</td>\n",
       "      <td>33</td>\n",
       "      <td>F.P.</td>\n",
       "    </tr>\n",
       "    <tr>\n",
       "      <th>1401</th>\n",
       "      <td>1415</td>\n",
       "      <td>1</td>\n",
       "      <td>Hombre</td>\n",
       "      <td>18</td>\n",
       "      <td>Primaria</td>\n",
       "    </tr>\n",
       "    <tr>\n",
       "      <th>900</th>\n",
       "      <td>908</td>\n",
       "      <td>1</td>\n",
       "      <td>Mujer</td>\n",
       "      <td>31</td>\n",
       "      <td>Secundaria</td>\n",
       "    </tr>\n",
       "    <tr>\n",
       "      <th>1833</th>\n",
       "      <td>1850</td>\n",
       "      <td>1</td>\n",
       "      <td>Mujer</td>\n",
       "      <td>24</td>\n",
       "      <td>Superiores</td>\n",
       "    </tr>\n",
       "    <tr>\n",
       "      <th>603</th>\n",
       "      <td>609</td>\n",
       "      <td>0</td>\n",
       "      <td>Hombre</td>\n",
       "      <td>59</td>\n",
       "      <td>Primaria</td>\n",
       "    </tr>\n",
       "    <tr>\n",
       "      <th>723</th>\n",
       "      <td>730</td>\n",
       "      <td>0</td>\n",
       "      <td>Mujer</td>\n",
       "      <td>44</td>\n",
       "      <td>Primaria</td>\n",
       "    </tr>\n",
       "    <tr>\n",
       "      <th>2047</th>\n",
       "      <td>2067</td>\n",
       "      <td>0</td>\n",
       "      <td>Hombre</td>\n",
       "      <td>38</td>\n",
       "      <td>F.P.</td>\n",
       "    </tr>\n",
       "    <tr>\n",
       "      <th>1549</th>\n",
       "      <td>1564</td>\n",
       "      <td>0</td>\n",
       "      <td>Hombre</td>\n",
       "      <td>70</td>\n",
       "      <td>Primaria</td>\n",
       "    </tr>\n",
       "    <tr>\n",
       "      <th>518</th>\n",
       "      <td>522</td>\n",
       "      <td>0</td>\n",
       "      <td>Mujer</td>\n",
       "      <td>41</td>\n",
       "      <td>Primaria</td>\n",
       "    </tr>\n",
       "  </tbody>\n",
       "</table>\n",
       "</div>"
      ],
      "text/plain": [
       "      Unnamed: 0  uso_internet    sexo  edad    estudios\n",
       "1891        1908             1  Hombre    26    Primaria\n",
       "467          470             1   Mujer    33        F.P.\n",
       "1401        1415             1  Hombre    18    Primaria\n",
       "900          908             1   Mujer    31  Secundaria\n",
       "1833        1850             1   Mujer    24  Superiores\n",
       "603          609             0  Hombre    59    Primaria\n",
       "723          730             0   Mujer    44    Primaria\n",
       "2047        2067             0  Hombre    38        F.P.\n",
       "1549        1564             0  Hombre    70    Primaria\n",
       "518          522             0   Mujer    41    Primaria"
      ]
     },
     "execution_count": 12,
     "metadata": {},
     "output_type": "execute_result"
    }
   ],
   "source": [
    "# Se visualizan 10 datos al azar\n",
    "df.sample(10)"
   ]
  },
  {
   "cell_type": "code",
   "execution_count": 14,
   "id": "510ee120",
   "metadata": {},
   "outputs": [
    {
     "data": {
      "text/html": [
       "<div>\n",
       "<style scoped>\n",
       "    .dataframe tbody tr th:only-of-type {\n",
       "        vertical-align: middle;\n",
       "    }\n",
       "\n",
       "    .dataframe tbody tr th {\n",
       "        vertical-align: top;\n",
       "    }\n",
       "\n",
       "    .dataframe thead th {\n",
       "        text-align: right;\n",
       "    }\n",
       "</style>\n",
       "<table border=\"1\" class=\"dataframe\">\n",
       "  <thead>\n",
       "    <tr style=\"text-align: right;\">\n",
       "      <th></th>\n",
       "      <th>Unnamed: 0</th>\n",
       "      <th>uso_internet</th>\n",
       "      <th>edad</th>\n",
       "      <th>sexo_Mujer</th>\n",
       "      <th>estudios_Medios universitarios</th>\n",
       "      <th>estudios_Primaria</th>\n",
       "      <th>estudios_Secundaria</th>\n",
       "      <th>estudios_Sin estudios</th>\n",
       "      <th>estudios_Superiores</th>\n",
       "    </tr>\n",
       "  </thead>\n",
       "  <tbody>\n",
       "    <tr>\n",
       "      <th>0</th>\n",
       "      <td>1</td>\n",
       "      <td>0</td>\n",
       "      <td>66</td>\n",
       "      <td>1</td>\n",
       "      <td>0</td>\n",
       "      <td>1</td>\n",
       "      <td>0</td>\n",
       "      <td>0</td>\n",
       "      <td>0</td>\n",
       "    </tr>\n",
       "    <tr>\n",
       "      <th>1</th>\n",
       "      <td>2</td>\n",
       "      <td>1</td>\n",
       "      <td>72</td>\n",
       "      <td>0</td>\n",
       "      <td>0</td>\n",
       "      <td>1</td>\n",
       "      <td>0</td>\n",
       "      <td>0</td>\n",
       "      <td>0</td>\n",
       "    </tr>\n",
       "    <tr>\n",
       "      <th>2</th>\n",
       "      <td>3</td>\n",
       "      <td>1</td>\n",
       "      <td>48</td>\n",
       "      <td>0</td>\n",
       "      <td>1</td>\n",
       "      <td>0</td>\n",
       "      <td>0</td>\n",
       "      <td>0</td>\n",
       "      <td>0</td>\n",
       "    </tr>\n",
       "    <tr>\n",
       "      <th>3</th>\n",
       "      <td>4</td>\n",
       "      <td>0</td>\n",
       "      <td>59</td>\n",
       "      <td>0</td>\n",
       "      <td>0</td>\n",
       "      <td>0</td>\n",
       "      <td>0</td>\n",
       "      <td>0</td>\n",
       "      <td>1</td>\n",
       "    </tr>\n",
       "    <tr>\n",
       "      <th>4</th>\n",
       "      <td>5</td>\n",
       "      <td>1</td>\n",
       "      <td>44</td>\n",
       "      <td>1</td>\n",
       "      <td>0</td>\n",
       "      <td>0</td>\n",
       "      <td>0</td>\n",
       "      <td>0</td>\n",
       "      <td>1</td>\n",
       "    </tr>\n",
       "  </tbody>\n",
       "</table>\n",
       "</div>"
      ],
      "text/plain": [
       "   Unnamed: 0  uso_internet  edad  sexo_Mujer  estudios_Medios universitarios  \\\n",
       "0           1             0    66           1                               0   \n",
       "1           2             1    72           0                               0   \n",
       "2           3             1    48           0                               1   \n",
       "3           4             0    59           0                               0   \n",
       "4           5             1    44           1                               0   \n",
       "\n",
       "   estudios_Primaria  estudios_Secundaria  estudios_Sin estudios  \\\n",
       "0                  1                    0                      0   \n",
       "1                  1                    0                      0   \n",
       "2                  0                    0                      0   \n",
       "3                  0                    0                      0   \n",
       "4                  0                    0                      0   \n",
       "\n",
       "   estudios_Superiores  \n",
       "0                    0  \n",
       "1                    0  \n",
       "2                    0  \n",
       "3                    1  \n",
       "4                    1  "
      ]
     },
     "execution_count": 14,
     "metadata": {},
     "output_type": "execute_result"
    }
   ],
   "source": [
    "# Se convierte la variable sexo a numérica\n",
    "Df=pd.get_dummies(data=df,drop_first=True)\n",
    "Df.head()"
   ]
  },
  {
   "cell_type": "markdown",
   "id": "934ce463",
   "metadata": {},
   "source": [
    "# Seleccionar variables"
   ]
  },
  {
   "cell_type": "code",
   "execution_count": 22,
   "id": "1cafb316",
   "metadata": {},
   "outputs": [],
   "source": [
    "# Dividimos en variables explicativas, que son todas las variables excepto uso_internet, la cual es nuestro objetivo.\n",
    "explicativas=Df.drop(columns='uso_internet')\n",
    "objetivo=Df.uso_internet"
   ]
  },
  {
   "cell_type": "markdown",
   "id": "9ee37611",
   "metadata": {},
   "source": [
    "# Entrenamiento del modelo DecisionTreeClassifier()"
   ]
  },
  {
   "cell_type": "code",
   "execution_count": 23,
   "id": "3b397a29",
   "metadata": {},
   "outputs": [],
   "source": [
    "# Se utiliza el modelo DesicionTreeClassifier de la libreria sklearn\n",
    "from sklearn.tree import DecisionTreeClassifier"
   ]
  },
  {
   "cell_type": "code",
   "execution_count": 35,
   "id": "9469a665",
   "metadata": {},
   "outputs": [],
   "source": [
    "# Utilizamos el modelo de árbol de decisión en una variable, el comando max_depth nos permite acortarlo dado que tiene muchas ramas\n",
    "model=DecisionTreeClassifier(max_depth=3)"
   ]
  },
  {
   "cell_type": "code",
   "execution_count": 36,
   "id": "05c21c39",
   "metadata": {},
   "outputs": [
    {
     "data": {
      "text/plain": [
       "DecisionTreeClassifier(max_depth=3)"
      ]
     },
     "execution_count": 36,
     "metadata": {},
     "output_type": "execute_result"
    }
   ],
   "source": [
    "# Se genera la función fit que genera el modelo\n",
    "model.fit(X=explicativas, y=objetivo)"
   ]
  },
  {
   "cell_type": "markdown",
   "id": "d4f2ea05",
   "metadata": {},
   "source": [
    "# Visualización del modelo"
   ]
  },
  {
   "cell_type": "code",
   "execution_count": 39,
   "id": "655df441",
   "metadata": {},
   "outputs": [],
   "source": [
    "# De la librería sklearn se importa la función para visualizar\n",
    "from sklearn.tree import plot_tree\n",
    "import matplotlib.pyplot as plt"
   ]
  },
  {
   "cell_type": "code",
   "execution_count": 43,
   "id": "37e43108",
   "metadata": {},
   "outputs": [
    {
     "data": {
      "image/png": "[encoded data removed]",
      "text/plain": [
       "<Figure size 1296x576 with 1 Axes>"
      ]
     },
     "metadata": {
      "needs_background": "light"
     },
     "output_type": "display_data"
    }
   ],
   "source": [
    "# Se visualiza el árbol, la primera línea es para el tamaño, el número de niveles proviene de max_depth\n",
    "plt.figure(figsize=(18,8))\n",
    "plot_tree(decision_tree=model, feature_names=explicativas.columns, filled=True, fontsize=10);"
   ]
  },
  {
   "cell_type": "markdown",
   "id": "968fcac8",
   "metadata": {},
   "source": [
    "# Realizar una predicción"
   ]
  },
  {
   "cell_type": "code",
   "execution_count": 45,
   "id": "13a91d40",
   "metadata": {},
   "outputs": [
    {
     "data": {
      "text/html": [
       "<div>\n",
       "<style scoped>\n",
       "    .dataframe tbody tr th:only-of-type {\n",
       "        vertical-align: middle;\n",
       "    }\n",
       "\n",
       "    .dataframe tbody tr th {\n",
       "        vertical-align: top;\n",
       "    }\n",
       "\n",
       "    .dataframe thead th {\n",
       "        text-align: right;\n",
       "    }\n",
       "</style>\n",
       "<table border=\"1\" class=\"dataframe\">\n",
       "  <thead>\n",
       "    <tr style=\"text-align: right;\">\n",
       "      <th></th>\n",
       "      <th>Unnamed: 0</th>\n",
       "      <th>edad</th>\n",
       "      <th>sexo_Mujer</th>\n",
       "      <th>estudios_Medios universitarios</th>\n",
       "      <th>estudios_Primaria</th>\n",
       "      <th>estudios_Secundaria</th>\n",
       "      <th>estudios_Sin estudios</th>\n",
       "      <th>estudios_Superiores</th>\n",
       "    </tr>\n",
       "  </thead>\n",
       "  <tbody>\n",
       "    <tr>\n",
       "      <th>2152</th>\n",
       "      <td>2173</td>\n",
       "      <td>19</td>\n",
       "      <td>0</td>\n",
       "      <td>0</td>\n",
       "      <td>0</td>\n",
       "      <td>1</td>\n",
       "      <td>0</td>\n",
       "      <td>0</td>\n",
       "    </tr>\n",
       "  </tbody>\n",
       "</table>\n",
       "</div>"
      ],
      "text/plain": [
       "      Unnamed: 0  edad  sexo_Mujer  estudios_Medios universitarios  \\\n",
       "2152        2173    19           0                               0   \n",
       "\n",
       "      estudios_Primaria  estudios_Secundaria  estudios_Sin estudios  \\\n",
       "2152                  0                    1                      0   \n",
       "\n",
       "      estudios_Superiores  \n",
       "2152                    0  "
      ]
     },
     "execution_count": 45,
     "metadata": {},
     "output_type": "execute_result"
    }
   ],
   "source": [
    "# Se selecciona una persona al azar, esta se guarda en la variable a\n",
    "a=explicativas.sample()\n",
    "a"
   ]
  },
  {
   "cell_type": "code",
   "execution_count": 47,
   "id": "2d6fb1f7",
   "metadata": {},
   "outputs": [
    {
     "data": {
      "text/plain": [
       "array([[0.09241706, 0.90758294]])"
      ]
     },
     "execution_count": 47,
     "metadata": {},
     "output_type": "execute_result"
    }
   ],
   "source": [
    "# Se calcula la probabilidad de que la persona a use internet, el primer número nos da la probabilidad de que no lo use y el segundo de que sí lo use\n",
    "model.predict_proba(a)"
   ]
  },
  {
   "cell_type": "code",
   "execution_count": 51,
   "id": "65dfb934",
   "metadata": {},
   "outputs": [],
   "source": [
    "# Se calcula el valor para todas las personas y se guarda en la variable y_pred\n",
    "y_pred=model.predict(explicativas)"
   ]
  },
  {
   "cell_type": "markdown",
   "id": "6ffc6a09",
   "metadata": {},
   "source": [
    "# Interpretación del modelo"
   ]
  },
  {
   "cell_type": "code",
   "execution_count": 52,
   "id": "7556d4b5",
   "metadata": {},
   "outputs": [],
   "source": [
    "# En el modelo se muestra como primer rama la edad.\n",
    "# Para analizar el porqué se grafica un histograma.\n",
    "import seaborn as sns"
   ]
  },
  {
   "cell_type": "code",
   "execution_count": 54,
   "id": "9fe8f831",
   "metadata": {},
   "outputs": [
    {
     "data": {
      "text/plain": [
       "<AxesSubplot:xlabel='edad', ylabel='Count'>"
      ]
     },
     "execution_count": 54,
     "metadata": {},
     "output_type": "execute_result"
    },
    {
     "data": {
      "image/png": "[encoded data removed]",
      "text/plain": [
       "<Figure size 432x288 with 1 Axes>"
      ]
     },
     "metadata": {
      "needs_background": "light"
     },
     "output_type": "display_data"
    }
   ],
   "source": [
    "# El histograma contiene el dato edad vs uso internet\n",
    "sns.histplot(x=df.edad,hue=df.uso_internet)"
   ]
  },
  {
   "cell_type": "code",
   "execution_count": 55,
   "id": "94d5f3ad",
   "metadata": {},
   "outputs": [],
   "source": [
    "# Existe una gran diferencia entre las personas que han usado internet, \n",
    "# la cual pertenece a edades menores, color naranja, y las que no lo han usado, \n",
    "# en edades mayores, color azul. Por ello el modelo ha determinado a la edad\n",
    "# como de mayor prioridad."
   ]
  },
  {
   "cell_type": "markdown",
   "id": "9527c792",
   "metadata": {},
   "source": [
    "# Calidad del modelo"
   ]
  },
  {
   "cell_type": "code",
   "execution_count": 56,
   "id": "7cde412d",
   "metadata": {},
   "outputs": [],
   "source": [
    "# Se colocan las predicciones en el dataframe\n",
    "df['pred']=y_pred"
   ]
  },
  {
   "cell_type": "code",
   "execution_count": 57,
   "id": "9fb2884b",
   "metadata": {},
   "outputs": [
    {
     "data": {
      "text/html": [
       "<div>\n",
       "<style scoped>\n",
       "    .dataframe tbody tr th:only-of-type {\n",
       "        vertical-align: middle;\n",
       "    }\n",
       "\n",
       "    .dataframe tbody tr th {\n",
       "        vertical-align: top;\n",
       "    }\n",
       "\n",
       "    .dataframe thead th {\n",
       "        text-align: right;\n",
       "    }\n",
       "</style>\n",
       "<table border=\"1\" class=\"dataframe\">\n",
       "  <thead>\n",
       "    <tr style=\"text-align: right;\">\n",
       "      <th></th>\n",
       "      <th>uso_internet</th>\n",
       "      <th>pred</th>\n",
       "    </tr>\n",
       "  </thead>\n",
       "  <tbody>\n",
       "    <tr>\n",
       "      <th>1704</th>\n",
       "      <td>0</td>\n",
       "      <td>0</td>\n",
       "    </tr>\n",
       "    <tr>\n",
       "      <th>1703</th>\n",
       "      <td>1</td>\n",
       "      <td>1</td>\n",
       "    </tr>\n",
       "    <tr>\n",
       "      <th>1544</th>\n",
       "      <td>1</td>\n",
       "      <td>0</td>\n",
       "    </tr>\n",
       "    <tr>\n",
       "      <th>1138</th>\n",
       "      <td>0</td>\n",
       "      <td>0</td>\n",
       "    </tr>\n",
       "    <tr>\n",
       "      <th>1973</th>\n",
       "      <td>1</td>\n",
       "      <td>1</td>\n",
       "    </tr>\n",
       "    <tr>\n",
       "      <th>2327</th>\n",
       "      <td>1</td>\n",
       "      <td>0</td>\n",
       "    </tr>\n",
       "    <tr>\n",
       "      <th>1540</th>\n",
       "      <td>0</td>\n",
       "      <td>0</td>\n",
       "    </tr>\n",
       "    <tr>\n",
       "      <th>1722</th>\n",
       "      <td>0</td>\n",
       "      <td>0</td>\n",
       "    </tr>\n",
       "    <tr>\n",
       "      <th>769</th>\n",
       "      <td>0</td>\n",
       "      <td>0</td>\n",
       "    </tr>\n",
       "    <tr>\n",
       "      <th>2023</th>\n",
       "      <td>1</td>\n",
       "      <td>0</td>\n",
       "    </tr>\n",
       "  </tbody>\n",
       "</table>\n",
       "</div>"
      ],
      "text/plain": [
       "      uso_internet  pred\n",
       "1704             0     0\n",
       "1703             1     1\n",
       "1544             1     0\n",
       "1138             0     0\n",
       "1973             1     1\n",
       "2327             1     0\n",
       "1540             0     0\n",
       "1722             0     0\n",
       "769              0     0\n",
       "2023             1     0"
      ]
     },
     "execution_count": 57,
     "metadata": {},
     "output_type": "execute_result"
    }
   ],
   "source": [
    "# Se utiliza una muestra de 10 personas, de ahí se utiliza sólo las\n",
    "# variables uso_internet y la predicción\n",
    "df.sample(10)[['uso_internet','pred']]"
   ]
  },
  {
   "cell_type": "code",
   "execution_count": 59,
   "id": "59dc9c26",
   "metadata": {},
   "outputs": [],
   "source": [
    "# Se observa que el modelo falló en la predicción de la persona 1544, 2327 y 2023"
   ]
  },
  {
   "cell_type": "code",
   "execution_count": 60,
   "id": "b2cf9f49",
   "metadata": {},
   "outputs": [
    {
     "data": {
      "text/plain": [
       "0        True\n",
       "1       False\n",
       "2        True\n",
       "3       False\n",
       "4        True\n",
       "        ...  \n",
       "2450    False\n",
       "2451     True\n",
       "2452     True\n",
       "2453     True\n",
       "2454     True\n",
       "Length: 2455, dtype: bool"
      ]
     },
     "execution_count": 60,
     "metadata": {},
     "output_type": "execute_result"
    }
   ],
   "source": [
    "# Se comparan los aciertos del modelo\n",
    "df['uso_internet']==df['pred']"
   ]
  },
  {
   "cell_type": "code",
   "execution_count": 61,
   "id": "8b7679b2",
   "metadata": {},
   "outputs": [
    {
     "data": {
      "text/plain": [
       "1975"
      ]
     },
     "execution_count": 61,
     "metadata": {},
     "output_type": "execute_result"
    }
   ],
   "source": [
    "# Se realiza la suma de los aciertos\n",
    "(df['uso_internet']==df['pred']).sum()"
   ]
  },
  {
   "cell_type": "code",
   "execution_count": 62,
   "id": "ffcd68d6",
   "metadata": {},
   "outputs": [
    {
     "data": {
      "text/plain": [
       "0.8044806517311609"
      ]
     },
     "execution_count": 62,
     "metadata": {},
     "output_type": "execute_result"
    }
   ],
   "source": [
    "# Con porcentaje, utilizando las 2455 personas\n",
    "(df['uso_internet']==df['pred']).sum()/2455 "
   ]
  },
  {
   "cell_type": "markdown",
   "id": "34961707",
   "metadata": {},
   "source": [
    "# La efectividad del modelo es del 80%"
   ]
  },
  {
   "cell_type": "code",
   "execution_count": null,
   "id": "93356111",
   "metadata": {},
   "outputs": [],
   "source": []
  }
 ],
 "metadata": {
  "kernelspec": {
   "display_name": "Python 3",
   "language": "python",
   "name": "python3"
  },
  "language_info": {
   "codemirror_mode": {
    "name": "ipython",
    "version": 3
   },
   "file_extension": ".py",
   "mimetype": "text/x-python",
   "name": "python",
   "nbconvert_exporter": "python",
   "pygments_lexer": "ipython3",
   "version": "3.8.8"
  }
 },
 "nbformat": 4,
 "nbformat_minor": 5
}
